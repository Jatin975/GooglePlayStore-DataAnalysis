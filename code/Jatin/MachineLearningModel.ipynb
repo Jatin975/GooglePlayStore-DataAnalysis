{
 "cells": [
  {
   "cell_type": "code",
   "execution_count": null,
   "metadata": {},
   "outputs": [],
   "source": [
    "import pandas as pd\n",
    "import numpy as np\n",
    "from sklearn.ensemble import RandomForestClassifier, VotingClassifier, GradientBoostingClassifier\n",
    "from sklearn.tree import DecisionTreeClassifier, DecisionTreeRegressor\n",
    "from sklearn.model_selection import train_test_split, cross_val_score, GridSearchCV\n",
    "from sklearn.neighbors import KNeighborsClassifier\n",
    "from sklearn.metrics import accuracy_score"
   ]
  },
  {
   "cell_type": "code",
   "execution_count": null,
   "metadata": {},
   "outputs": [],
   "source": [
    "#Import Cleaned Data\n",
    "df = pd.read_csv('cleanedAppsData.csv')"
   ]
  },
  {
   "cell_type": "code",
   "execution_count": null,
   "metadata": {},
   "outputs": [],
   "source": [
    "### Feature Engineering ###\n",
    "\n",
    "#Filtering for relevant variables - Remove App Name\n",
    "print(df.columns)\n",
    "df = df.drop(['App Name'], axis = 1)\n",
    "print(df.columns)"
   ]
  },
  {
   "cell_type": "code",
   "execution_count": null,
   "metadata": {},
   "outputs": [],
   "source": [
    "#Reduce number of target classes\n",
    "df.loc[df['Installs'].isin(['0 - 100', '100 - 500', '500 - 1,000']), 'Installs'] = '0 - 1,000'\n",
    "df.loc[df['Installs'].isin(['1,000 - 5,000', '5,000 - 10,000']), 'Installs'] = '1,000 - 10,000'\n",
    "df.loc[df['Installs'].isin(['10,000 - 50,000', '50,000 - 100,000']), 'Installs']  = '10,000 - 100,000'\n",
    "df.loc[df['Installs'].isin(['100,000 - 500,000', '500,000 - 1,000,000']), 'Installs']  = '100,000 - 1,000,000'\n",
    "df.loc[df['Installs'].isin(['1,000,000 - 5,000,000', '5,000,000 - 10,000,000']), 'Installs']  = '1,000,000 - 10,000,000'\n",
    "df.loc[df['Installs'].isin(['10,000,000 - 50,000,000', '50,000,000 - 100,000,000']), 'Installs']  = '10,000,000 - 100,000,000'\n",
    "df.loc[df['Installs'].isin(['100,000,000 - 500,000,000', '500,000,000 - 1,000,000,000']), 'Installs']  = '100,000,000 - 1,000,000,000'\n",
    "df.loc[df['Installs'].isin(['1,000,000,000 - 5,000,000,000', '5,000,000,000+']), 'Installs']  = '1,000,000,000+'\n",
    "\n",
    "\n",
    "df.Installs = pd.Categorical(df.Installs, ['0 - 1,000','1,000 - 10,000', '10,000 - 100,000', '100,000 - 1,000,000', '1,000,000 - 10,000,000', '10,000,000 - 100,000,000', '100,000,000 - 1,000,000,000', '1,000,000,000+'])\n",
    "print(df.Installs.value_counts().sort_index())\n",
    "print(df.shape)"
   ]
  },
  {
   "cell_type": "code",
   "execution_count": null,
   "metadata": {},
   "outputs": [],
   "source": [
    "#One hot encoding due to Sklearn categorical variable limitation (Sklearn Decision trees treat categorical variable as continuous)\n",
    "strat = df.Category.values\n",
    "df = pd.get_dummies(df, columns=['Content Rating', 'Category', 'Game_genre'], drop_first=True)\n",
    "print(df.columns)\n",
    "\n",
    "#Train Test Split - Simple Random Sampling (with Stratification)\n",
    "X = df.drop(['Installs'], axis = 1).values\n",
    "y = df.Installs.values\n",
    "X_train, X_test, y_train, y_test = train_test_split(X, y, test_size = 0.3, stratify = strat, random_state = 42)\n",
    "X.shape[0] == y.shape[0]"
   ]
  },
  {
   "cell_type": "code",
   "execution_count": null,
   "metadata": {},
   "outputs": [],
   "source": [
    "#Decision Tree Classifier Train\n",
    "dt = DecisionTreeClassifier(max_depth = 8, max_features = 'sqrt')\n",
    "dt.fit(X_train, y_train)\n",
    "y_pred = dt.predict(X_train)\n",
    "acc = accuracy_score(y_train, y_pred)\n",
    "print(\"Decision Tree train data accuracy: {:.2f}\".format(acc))\n"
   ]
  },
  {
   "cell_type": "code",
   "execution_count": null,
   "metadata": {},
   "outputs": [],
   "source": [
    "#Decision Tree Classifier \n",
    "dt.fit(X_train, y_train)\n",
    "y_pred = dt.predict(X_test)\n",
    "\n",
    "acc = accuracy_score(y_test, y_pred)\n",
    "print(\"Decision Tree Test data accuracy: {:.2f}\".format(acc))"
   ]
  },
  {
   "cell_type": "code",
   "execution_count": null,
   "metadata": {},
   "outputs": [],
   "source": [
    "# Decision Tree Cross Val\n",
    "a = np.mean(cross_val_score(dt, X, y, scoring = 'accuracy', cv = 10))\n",
    "print(\"Decision Tree cross validation accuracy: {:.2f}\".format(a))\n",
    "\n",
    "#The Decision Tree gave an accuracy of around 0.63"
   ]
  },
  {
   "cell_type": "code",
   "execution_count": null,
   "metadata": {},
   "outputs": [],
   "source": [
    "#K Nearest Neighbors\n",
    "knn = KNeighborsClassifier()\n",
    "knn.fit(X_train,y_train)\n",
    "print('knn train data accuracy',knn.score(X_train, y_train))  \n",
    "print('knn test data accuracy', knn.score(X_test,y_test))\n",
    "print('knn cross validation accuracy', np.mean(cross_val_score(knn,X, y, cv = 5)))\n",
    "\n",
    "#KNN gave an accuracy of 0.66"
   ]
  }
 ],
 "metadata": {
  "language_info": {
   "name": "python"
  },
  "orig_nbformat": 4
 },
 "nbformat": 4,
 "nbformat_minor": 2
}
